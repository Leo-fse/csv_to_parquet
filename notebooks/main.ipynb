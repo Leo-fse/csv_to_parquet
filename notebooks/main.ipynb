{
 "cells": [
  {
   "cell_type": "code",
   "execution_count": 44,
   "metadata": {},
   "outputs": [],
   "source": [
    "import tempfile\n",
    "import zipfile\n",
    "from pathlib import Path\n",
    "\n",
    "import pandas as pd\n"
   ]
  },
  {
   "cell_type": "code",
   "execution_count": null,
   "metadata": {},
   "outputs": [
    {
     "name": "stdout",
     "output_type": "stream",
     "text": [
      "Extracting 3 csv files from ..\\data\\input\\zizizi.zip\n"
     ]
    }
   ],
   "source": [
    "p = Path(\"../\")\n",
    "# zip_files = glob.glob(\"../**/*.zip\", recursive=True)\n",
    "zip_files = list(p.glob(\"**/*.zip\"))\n",
    "\n",
    "for zip_file in zip_files:\n",
    "    with zipfile.ZipFile(zip_file, \"r\") as zip_ref:\n",
    "        csv_files = [name for name in zip_ref.namelist() if name.endswith(\".csv\")]\n",
    "        print(f\"Extracting {len(csv_files)} csv files from {zip_file}\")\n",
    "        for zip_info in zip_ref.infolist():\n",
    "            if zip_info.filename.endswith(\".csv\"):\n",
    "                with tempfile.TemporaryDirectory() as tmp_dir:\n",
    "                    extract_path = zip_ref.extract(zip_info, tmp_dir)"
   ]
  },
  {
   "cell_type": "code",
   "execution_count": null,
   "metadata": {},
   "outputs": [],
   "source": []
  },
  {
   "cell_type": "code",
   "execution_count": 21,
   "metadata": {},
   "outputs": [
    {
     "data": {
      "text/plain": [
       "WindowsPath('../data/input/zizizi.zip')"
      ]
     },
     "execution_count": 21,
     "metadata": {},
     "output_type": "execute_result"
    }
   ],
   "source": [
    "zip_files[0]"
   ]
  },
  {
   "cell_type": "code",
   "execution_count": null,
   "metadata": {},
   "outputs": [],
   "source": []
  }
 ],
 "metadata": {
  "kernelspec": {
   "display_name": ".venv",
   "language": "python",
   "name": "python3"
  },
  "language_info": {
   "codemirror_mode": {
    "name": "ipython",
    "version": 3
   },
   "file_extension": ".py",
   "mimetype": "text/x-python",
   "name": "python",
   "nbconvert_exporter": "python",
   "pygments_lexer": "ipython3",
   "version": "3.11.9"
  }
 },
 "nbformat": 4,
 "nbformat_minor": 2
}
